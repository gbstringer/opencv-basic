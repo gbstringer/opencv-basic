{
 "cells": [
  {
   "cell_type": "code",
   "execution_count": 10,
   "id": "initial_id",
   "metadata": {
    "collapsed": true,
    "ExecuteTime": {
     "end_time": "2024-03-06T09:00:10.794762Z",
     "start_time": "2024-03-06T09:00:10.790574Z"
    }
   },
   "outputs": [],
   "source": [
    "import pathlib2\n",
    "import cv2\n",
    "import matplotlib.pyplot as plt\n",
    "import copy\n",
    "import napari\n",
    "import os"
   ]
  },
  {
   "cell_type": "markdown",
   "source": [
    "### Refactor of processing files using Pathlib\n",
    "\n",
    "### Configuration Parameters"
   ],
   "metadata": {
    "collapsed": false
   },
   "id": "a4e0f4cc3fa852eb"
  },
  {
   "cell_type": "code",
   "outputs": [],
   "source": [
    "SHOW_FULLSIZE = False\n",
    "DELAY = 2000                # in milliseconds\n",
    "INPUT_PATH = 'data/'\n",
    "OUTPUT_PATH = 'output/'\n",
    "OUTPUT_THRESHOLD = 88       # Threshold for final output\n",
    "CROPPING_THRESHOLD_UPPER = 255      # Threshold used to select the crop outline\n",
    "CROPPING_THRESHOLD_LOWER = 250"
   ],
   "metadata": {
    "collapsed": false,
    "ExecuteTime": {
     "end_time": "2024-03-06T09:00:12.294742Z",
     "start_time": "2024-03-06T09:00:12.287929Z"
    }
   },
   "id": "27ed4a5495034798",
   "execution_count": 11
  },
  {
   "cell_type": "markdown",
   "source": [
    "### Find files in the input_path directory"
   ],
   "metadata": {
    "collapsed": false
   },
   "id": "eb9226a8b8a51c45"
  },
  {
   "cell_type": "code",
   "outputs": [],
   "source": [],
   "metadata": {
    "collapsed": false,
    "ExecuteTime": {
     "end_time": "2024-03-06T11:55:12.603234Z",
     "start_time": "2024-03-06T11:55:12.598861Z"
    }
   },
   "id": "dca055388bb95c",
   "execution_count": 45
  },
  {
   "cell_type": "code",
   "outputs": [
    {
     "name": "stdout",
     "output_type": "stream",
     "text": [
      "[WindowsPath('C:/src/github/gbstringer/opencv-basic/data/hl007138.jpg'), WindowsPath('C:/src/github/gbstringer/opencv-basic/data/hl007140.jpg'), WindowsPath('C:/src/github/gbstringer/opencv-basic/data/hl007150.jpg'), WindowsPath('C:/src/github/gbstringer/opencv-basic/data/hl007179.jpg'), WindowsPath('C:/src/github/gbstringer/opencv-basic/data/test.png'), WindowsPath('C:/src/github/gbstringer/opencv-basic/data/uoedh_culver house letters12660.jpg')]\n"
     ]
    }
   ],
   "source": [
    "from pathlib2 import Path\n",
    "input_path = Path.cwd() / INPUT_PATH\n",
    "paths = sorted(input_path.iterdir())\n",
    "files = sorted(f for f in Path(input_path).iterdir() if f.is_file())\n",
    "print(files)"
   ],
   "metadata": {
    "collapsed": false,
    "ExecuteTime": {
     "end_time": "2024-03-06T11:55:13.320474Z",
     "start_time": "2024-03-06T11:55:13.314415Z"
    }
   },
   "id": "e06be5294a164b0a",
   "execution_count": 46
  },
  {
   "cell_type": "markdown",
   "source": [
    "### Summarise file types/suffixes in the input directory"
   ],
   "metadata": {
    "collapsed": false
   },
   "id": "3b2cde08ee167aae"
  },
  {
   "cell_type": "code",
   "outputs": [
    {
     "data": {
      "text/plain": "Counter({'.jpg': 5, '.png': 1})"
     },
     "execution_count": 47,
     "metadata": {},
     "output_type": "execute_result"
    }
   ],
   "source": [
    "from collections import Counter\n",
    "Counter(path.suffix for path in input_path.iterdir())"
   ],
   "metadata": {
    "collapsed": false,
    "ExecuteTime": {
     "end_time": "2024-03-06T11:55:15.404644Z",
     "start_time": "2024-03-06T11:55:15.400884Z"
    }
   },
   "id": "303c0ea2dbb8eba5",
   "execution_count": 47
  },
  {
   "cell_type": "markdown",
   "source": [
    "### Find JPEG files"
   ],
   "metadata": {
    "collapsed": false
   },
   "id": "7bacdad93a2a00fb"
  },
  {
   "cell_type": "code",
   "outputs": [
    {
     "name": "stdout",
     "output_type": "stream",
     "text": [
      "[WindowsPath('C:/src/github/gbstringer/opencv-basic/data/hl007138.jpg'), WindowsPath('C:/src/github/gbstringer/opencv-basic/data/hl007140.jpg'), WindowsPath('C:/src/github/gbstringer/opencv-basic/data/hl007150.jpg'), WindowsPath('C:/src/github/gbstringer/opencv-basic/data/hl007179.jpg'), WindowsPath('C:/src/github/gbstringer/opencv-basic/data/uoedh_culver house letters12660.jpg')]\n"
     ]
    }
   ],
   "source": [
    "jpg_files = sorted(input_path.glob('*.jpg'))\n",
    "\n",
    "print(jpg_files)"
   ],
   "metadata": {
    "collapsed": false,
    "ExecuteTime": {
     "end_time": "2024-03-06T11:55:16.922462Z",
     "start_time": "2024-03-06T11:55:16.918509Z"
    }
   },
   "id": "1607df793eece87e",
   "execution_count": 48
  },
  {
   "cell_type": "code",
   "outputs": [],
   "source": [],
   "metadata": {
    "collapsed": false,
    "ExecuteTime": {
     "end_time": "2024-03-06T11:55:18.427887Z",
     "start_time": "2024-03-06T11:55:18.424801Z"
    }
   },
   "id": "889460a0439754aa",
   "execution_count": 48
  },
  {
   "cell_type": "markdown",
   "source": [
    "### Picking out components of a Path\n",
    "\n",
    "*.name* filename without the directory\n",
    "*.stem* filename without directory or extension\n",
    "*.suffix* file extension only\n",
    "*.anchor* part of pathname before directories\n",
    "*.parent* directory containing the file or directory, as a new Path object"
   ],
   "metadata": {
    "collapsed": false
   },
   "id": "bc99415e53359d07"
  },
  {
   "cell_type": "code",
   "outputs": [
    {
     "name": "stdout",
     "output_type": "stream",
     "text": [
      "hl007138.jpg\n",
      "hl007138\n",
      ".jpg\n",
      "C:\\\n",
      "hl007140.jpg\n",
      "hl007140\n",
      ".jpg\n",
      "C:\\\n",
      "hl007150.jpg\n",
      "hl007150\n",
      ".jpg\n",
      "C:\\\n",
      "hl007179.jpg\n",
      "hl007179\n",
      ".jpg\n",
      "C:\\\n",
      "uoedh_culver house letters12660.jpg\n",
      "uoedh_culver house letters12660\n",
      ".jpg\n",
      "C:\\\n"
     ]
    }
   ],
   "source": [
    "for f in jpg_files:\n",
    "    print(f.name)\n",
    "    print(f.stem)\n",
    "    print(f.suffix)\n",
    "    print(f.anchor)"
   ],
   "metadata": {
    "collapsed": false,
    "ExecuteTime": {
     "end_time": "2024-03-06T11:55:21.393552Z",
     "start_time": "2024-03-06T11:55:21.387522Z"
    }
   },
   "id": "efebdbbeaf9ba47d",
   "execution_count": 49
  },
  {
   "cell_type": "markdown",
   "source": [
    "### Return a unique path without overwriting existing files"
   ],
   "metadata": {
    "collapsed": false
   },
   "id": "12d6aa46f36f98a2"
  },
  {
   "cell_type": "code",
   "outputs": [],
   "source": [
    "def unique_path(directory, name_pattern):\n",
    "    counter = 0\n",
    "    while True:\n",
    "        counter += 1\n",
    "        path = directory / name_pattern.format(counter)\n",
    "        if not path.exists():\n",
    "            return path"
   ],
   "metadata": {
    "collapsed": false
   },
   "id": "9006817b2765a7b5"
  }
 ],
 "metadata": {
  "kernelspec": {
   "display_name": "Python 3",
   "language": "python",
   "name": "python3"
  },
  "language_info": {
   "codemirror_mode": {
    "name": "ipython",
    "version": 2
   },
   "file_extension": ".py",
   "mimetype": "text/x-python",
   "name": "python",
   "nbconvert_exporter": "python",
   "pygments_lexer": "ipython2",
   "version": "2.7.6"
  }
 },
 "nbformat": 4,
 "nbformat_minor": 5
}
