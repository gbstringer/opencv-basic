{
 "cells": [
  {
   "cell_type": "code",
   "execution_count": 58,
   "metadata": {},
   "outputs": [],
   "source": [
    "import numpy as np\n",
    "import cv2\n",
    "from skimage import io, data\n",
    "import napari\n",
    "import matplotlib.pyplot as plt\n",
    "import copy\n",
    "\n",
    "\n",
    "#img = plt.imread('data/uoedh_culver house letters12659.jpg')\n"
   ]
  },
  {
   "cell_type": "markdown",
   "source": [
    "### Configuration"
   ],
   "metadata": {
    "collapsed": false,
    "pycharm": {
     "name": "#%% md\n"
    }
   }
  },
  {
   "cell_type": "code",
   "execution_count": 59,
   "outputs": [],
   "source": [
    "\n",
    "\n",
    "SHOW_FULLSIZE = False\n",
    "DELAY = 2000                # in milliseconds\n",
    "INPUT_PATH = 'data/'\n",
    "OUTPUT_PATH = 'output/'\n",
    "OUTPUT_THRESHOLD = 64       # Threshold for final output\n",
    "CROPPING_THRESHOLD = 1      # Threshold used to select the crop outline\n",
    "\n",
    "fname = 'uoedh_culver house letters12659'\n"
   ],
   "metadata": {
    "collapsed": false,
    "pycharm": {
     "name": "#%%\n"
    }
   }
  },
  {
   "cell_type": "markdown",
   "metadata": {
    "pycharm": {
     "name": "#%% md\n"
    }
   },
   "source": [
    "### Helper functions\n",
    "* **makethumb()** is a quick rescaling function, reducing an image to 10% linear size\n",
    "* **showbriefly()** shows an image for DELAY milliseconds or until a key is pressed"
   ]
  },
  {
   "cell_type": "code",
   "execution_count": 60,
   "metadata": {
    "pycharm": {
     "name": "#%%\n"
    }
   },
   "outputs": [],
   "source": [
    "def makethumb(i):\n",
    "    return cv2.resize(i,None,fx=0.1,fy=0.1,interpolation=cv2.INTER_CUBIC)\n",
    "\n",
    "def showbriefly(i):\n",
    "    WindowName = 'Image Viewer'\n",
    "    view_window = cv2.namedWindow(WindowName, cv2.WINDOW_NORMAL)\n",
    "    w = cv2.imshow(WindowName,i)\n",
    "    # force focus\n",
    "    cv2.setWindowProperty(WindowName,cv2.WND_PROP_FULLSCREEN,cv2.WINDOW_FULLSCREEN)\n",
    "    cv2.setWindowProperty(WindowName,cv2.WND_PROP_FULLSCREEN,cv2.WINDOW_NORMAL)\n",
    "    # wait 10 seconds\n",
    "    cv2.waitKey(DELAY)\n",
    "    cv2.destroyAllWindows()"
   ]
  },
  {
   "cell_type": "markdown",
   "metadata": {},
   "source": [
    "### Read image using CV2 functions\n",
    "* Image is loaded as a BGR matrix"
   ]
  },
  {
   "cell_type": "code",
   "execution_count": 61,
   "metadata": {
    "pycharm": {
     "name": "#%%\n"
    }
   },
   "outputs": [],
   "source": [
    "img = cv2.imread(filename=INPUT_PATH+fname+'.jpg')"
   ]
  },
  {
   "cell_type": "markdown",
   "metadata": {
    "pycharm": {
     "name": "#%% md\n"
    }
   },
   "source": [
    "Convert image to greyscale"
   ]
  },
  {
   "cell_type": "code",
   "execution_count": 62,
   "metadata": {
    "pycharm": {
     "name": "#%%\n"
    }
   },
   "outputs": [],
   "source": [
    "grey = cv2.cvtColor(img,cv2.COLOR_BGR2GRAY)"
   ]
  },
  {
   "cell_type": "markdown",
   "source": [
    "### Use cv.threshold() to isolate writing\n",
    "* note that **cv2.threshold()** returns two arguments:\n",
    " * **ret** the threshold mask pattern (temporary variable)\n",
    " * **thresh** the image with threshold applied\n",
    " * Uses the adaptive **OTSU** algorithms for better results on uneven exposures"
   ],
   "metadata": {
    "collapsed": false
   }
  },
  {
   "cell_type": "code",
   "execution_count": 63,
   "outputs": [],
   "source": [
    "ret,thresh = cv2.threshold(grey,OUTPUT_THRESHOLD,255,cv2.THRESH_BINARY)"
   ],
   "metadata": {
    "collapsed": false,
    "pycharm": {
     "name": "#%%\n"
    }
   }
  },
  {
   "cell_type": "code",
   "execution_count": 64,
   "outputs": [],
   "source": [
    "showbriefly(makethumb(thresh))"
   ],
   "metadata": {
    "collapsed": false,
    "pycharm": {
     "name": "#%%\n"
    }
   }
  },
  {
   "cell_type": "markdown",
   "source": [
    "#### Find the Contours\n",
    "* Redo the threshold with more extreme settings\n",
    "* Find the contours of the objects in the image\n",
    "\n",
    "\n",
    "From: https://stackoverflow.com/questions/13538748/crop-black-edges-with-opencv"
   ],
   "metadata": {
    "collapsed": false
   }
  },
  {
   "cell_type": "code",
   "execution_count": 65,
   "outputs": [],
   "source": [
    "_, cropthresh = cv2.threshold(thresh,CROPPING_THRESHOLD,255,cv2.THRESH_BINARY)\n",
    "\n",
    "contours,hierarchy = cv2.findContours(cropthresh,cv2.RETR_EXTERNAL,cv2.CHAIN_APPROX_SIMPLE)\n",
    "#showbriefly(newimg)"
   ],
   "metadata": {
    "collapsed": false,
    "pycharm": {
     "name": "#%%\n"
    }
   }
  },
  {
   "cell_type": "markdown",
   "source": [],
   "metadata": {
    "collapsed": false
   }
  },
  {
   "cell_type": "code",
   "execution_count": 66,
   "outputs": [
    {
     "name": "stdout",
     "output_type": "stream",
     "text": [
      "new maximum: 0.5\n",
      "new maximum: 1.0\n",
      "new maximum: 2.0\n",
      "new maximum: 4.5\n",
      "new maximum: 8.5\n",
      "new maximum: 16.5\n",
      "new maximum: 17.0\n",
      "new maximum: 18.0\n",
      "new maximum: 19.0\n",
      "new maximum: 33.5\n",
      "new maximum: 15914667.5\n"
     ]
    }
   ],
   "source": [
    "maxc = []\n",
    "maxa = 0\n",
    "for c in contours:\n",
    "    a = cv2.contourArea(c)\n",
    "    if a>maxa:\n",
    "        maxc=c\n",
    "        maxa=a\n",
    "        print('new maximum: '+str(maxa))\n",
    "cont = maxc"
   ],
   "metadata": {
    "collapsed": false,
    "pycharm": {
     "name": "#%%\n"
    }
   }
  },
  {
   "cell_type": "markdown",
   "source": [
    "#### Find the bounding rectangle of that maximal contour"
   ],
   "metadata": {
    "collapsed": false
   }
  },
  {
   "cell_type": "code",
   "execution_count": 67,
   "outputs": [
    {
     "name": "stdout",
     "output_type": "stream",
     "text": [
      "x,y,x`,y` =  136 81 3674 4726\n",
      "w,h =  3538 4645\n"
     ]
    }
   ],
   "source": [
    "x,y,w,h = cv2.boundingRect(cont)\n",
    "\n",
    "print('x,y,x`,y` = ',x,y,x+w,y+h)\n",
    "print('w,h = ',w,h)"
   ],
   "metadata": {
    "collapsed": false,
    "pycharm": {
     "name": "#%%\n"
    }
   }
  },
  {
   "cell_type": "markdown",
   "source": [
    "#### Show the bounding box in green for confirmation\n",
    "* Note that the **rectangle()** function modifies the image it references\n",
    " * Hence the need to do a **deepcopy()**"
   ],
   "metadata": {
    "collapsed": false
   }
  },
  {
   "cell_type": "code",
   "execution_count": 68,
   "outputs": [],
   "source": [
    "boundbox = copy.deepcopy(img)\n",
    "cv2.rectangle(boundbox,(x,y),(x+w,y+h),(0,255,0),20)\n",
    "showbriefly(boundbox)"
   ],
   "metadata": {
    "collapsed": false,
    "pycharm": {
     "name": "#%%\n"
    }
   }
  },
  {
   "cell_type": "markdown",
   "source": [
    "#### Crop the original image using numpy matrix slicing"
   ],
   "metadata": {
    "collapsed": false
   }
  },
  {
   "cell_type": "code",
   "execution_count": 69,
   "outputs": [],
   "source": [
    "crop = img[y:y+h,x:x+w]\n",
    "showbriefly(crop)"
   ],
   "metadata": {
    "collapsed": false,
    "pycharm": {
     "name": "#%%\n"
    }
   }
  },
  {
   "cell_type": "markdown",
   "metadata": {
    "pycharm": {
     "name": "#%% md\n"
    }
   },
   "source": [
    "#### And now thresholded image"
   ]
  },
  {
   "cell_type": "code",
   "execution_count": 70,
   "metadata": {
    "pycharm": {
     "name": "#%%\n"
    }
   },
   "outputs": [],
   "source": [
    "cropocr = thresh[y:y+h,x:x+w]\n",
    "showbriefly(cropocr)\n",
    "\n",
    "#showbriefly(makethumb(img))\n",
    "#plt.imshow(cv2.cvtColor(img, cv2.COLOR_BGR2RGB))\n",
    "#plt.show()"
   ]
  },
  {
   "cell_type": "markdown",
   "metadata": {},
   "source": []
  },
  {
   "cell_type": "code",
   "execution_count": 71,
   "metadata": {
    "pycharm": {
     "name": "#%%\n"
    }
   },
   "outputs": [],
   "source": [
    "cv2.destroyAllWindows()"
   ]
  },
  {
   "cell_type": "code",
   "execution_count": 71,
   "metadata": {
    "pycharm": {
     "name": "#%%\n"
    }
   },
   "outputs": [],
   "source": []
  }
 ],
 "metadata": {
  "kernelspec": {
   "display_name": "Python 3 (ipykernel)",
   "language": "python",
   "name": "python3"
  },
  "language_info": {
   "codemirror_mode": {
    "name": "ipython",
    "version": 3
   },
   "file_extension": ".py",
   "mimetype": "text/x-python",
   "name": "python",
   "nbconvert_exporter": "python",
   "pygments_lexer": "ipython3",
   "version": "3.8.5"
  }
 },
 "nbformat": 4,
 "nbformat_minor": 1
}